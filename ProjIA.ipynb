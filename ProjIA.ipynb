{
 "cells": [
  {
   "cell_type": "markdown",
   "metadata": {},
   "source": [
    "> # Projet Final : Classification de chiffres manuscrits (MNIST) avec un réseau de neurones (Multi-Layer Perceptron (MLP))\n",
    "> ## Smain Belghazi, Rayan Guettab ING3\n",
    "\n",
    "\n",
    "# Introduction\n",
    "Ce projet implémente un réseau de neurones multicouches (MLP) pour la classification des chiffres manuscrits du dataset MNIST en utilisant Scikit-learn.\n",
    "L'objectif est d'explorer différentes architectures de MLP, d'optimiser les hyperparamètres et d'évaluer leurs performances.\n",
    "Plusieurs expérimentations sont réalisées, incluant l'ajout de régularisation L2, la modification de l'architecture du réseau et la comparaison entre différents algorithmes d'optimisation (Adam, SGD).\n",
    "\n"
   ]
  },
  {
   "cell_type": "code",
   "execution_count": 7,
   "metadata": {},
   "outputs": [
    {
     "name": "stdout",
     "output_type": "stream",
     "text": [
      "Defaulting to user installation because normal site-packages is not writeable\n",
      "Requirement already satisfied: scikit-learn in c:\\users\\smain\\appdata\\local\\packages\\pythonsoftwarefoundation.python.3.13_qbz5n2kfra8p0\\localcache\\local-packages\\python313\\site-packages (1.6.1)\n",
      "Requirement already satisfied: numpy in c:\\users\\smain\\appdata\\local\\packages\\pythonsoftwarefoundation.python.3.13_qbz5n2kfra8p0\\localcache\\local-packages\\python313\\site-packages (1.26.4)\n",
      "Requirement already satisfied: matplotlib in c:\\users\\smain\\appdata\\local\\packages\\pythonsoftwarefoundation.python.3.13_qbz5n2kfra8p0\\localcache\\local-packages\\python313\\site-packages (3.10.0)\n",
      "Requirement already satisfied: seaborn in c:\\users\\smain\\appdata\\local\\packages\\pythonsoftwarefoundation.python.3.13_qbz5n2kfra8p0\\localcache\\local-packages\\python313\\site-packages (0.13.2)\n",
      "Requirement already satisfied: scipy>=1.6.0 in c:\\users\\smain\\appdata\\local\\packages\\pythonsoftwarefoundation.python.3.13_qbz5n2kfra8p0\\localcache\\local-packages\\python313\\site-packages (from scikit-learn) (1.15.1)\n",
      "Requirement already satisfied: joblib>=1.2.0 in c:\\users\\smain\\appdata\\local\\packages\\pythonsoftwarefoundation.python.3.13_qbz5n2kfra8p0\\localcache\\local-packages\\python313\\site-packages (from scikit-learn) (1.4.2)\n",
      "Requirement already satisfied: threadpoolctl>=3.1.0 in c:\\users\\smain\\appdata\\local\\packages\\pythonsoftwarefoundation.python.3.13_qbz5n2kfra8p0\\localcache\\local-packages\\python313\\site-packages (from scikit-learn) (3.5.0)\n",
      "Requirement already satisfied: contourpy>=1.0.1 in c:\\users\\smain\\appdata\\local\\packages\\pythonsoftwarefoundation.python.3.13_qbz5n2kfra8p0\\localcache\\local-packages\\python313\\site-packages (from matplotlib) (1.3.1)\n",
      "Requirement already satisfied: cycler>=0.10 in c:\\users\\smain\\appdata\\local\\packages\\pythonsoftwarefoundation.python.3.13_qbz5n2kfra8p0\\localcache\\local-packages\\python313\\site-packages (from matplotlib) (0.12.1)\n",
      "Requirement already satisfied: fonttools>=4.22.0 in c:\\users\\smain\\appdata\\local\\packages\\pythonsoftwarefoundation.python.3.13_qbz5n2kfra8p0\\localcache\\local-packages\\python313\\site-packages (from matplotlib) (4.55.8)\n",
      "Requirement already satisfied: kiwisolver>=1.3.1 in c:\\users\\smain\\appdata\\local\\packages\\pythonsoftwarefoundation.python.3.13_qbz5n2kfra8p0\\localcache\\local-packages\\python313\\site-packages (from matplotlib) (1.4.8)\n",
      "Requirement already satisfied: packaging>=20.0 in c:\\users\\smain\\appdata\\local\\packages\\pythonsoftwarefoundation.python.3.13_qbz5n2kfra8p0\\localcache\\local-packages\\python313\\site-packages (from matplotlib) (24.2)\n",
      "Requirement already satisfied: pillow>=8 in c:\\users\\smain\\appdata\\local\\packages\\pythonsoftwarefoundation.python.3.13_qbz5n2kfra8p0\\localcache\\local-packages\\python313\\site-packages (from matplotlib) (11.1.0)\n",
      "Requirement already satisfied: pyparsing>=2.3.1 in c:\\users\\smain\\appdata\\local\\packages\\pythonsoftwarefoundation.python.3.13_qbz5n2kfra8p0\\localcache\\local-packages\\python313\\site-packages (from matplotlib) (3.2.1)\n",
      "Requirement already satisfied: python-dateutil>=2.7 in c:\\users\\smain\\appdata\\local\\packages\\pythonsoftwarefoundation.python.3.13_qbz5n2kfra8p0\\localcache\\local-packages\\python313\\site-packages (from matplotlib) (2.9.0.post0)\n",
      "Requirement already satisfied: pandas>=1.2 in c:\\users\\smain\\appdata\\local\\packages\\pythonsoftwarefoundation.python.3.13_qbz5n2kfra8p0\\localcache\\local-packages\\python313\\site-packages (from seaborn) (2.2.3)\n",
      "Requirement already satisfied: pytz>=2020.1 in c:\\users\\smain\\appdata\\local\\packages\\pythonsoftwarefoundation.python.3.13_qbz5n2kfra8p0\\localcache\\local-packages\\python313\\site-packages (from pandas>=1.2->seaborn) (2025.1)\n",
      "Requirement already satisfied: tzdata>=2022.7 in c:\\users\\smain\\appdata\\local\\packages\\pythonsoftwarefoundation.python.3.13_qbz5n2kfra8p0\\localcache\\local-packages\\python313\\site-packages (from pandas>=1.2->seaborn) (2025.1)\n",
      "Requirement already satisfied: six>=1.5 in c:\\users\\smain\\appdata\\local\\packages\\pythonsoftwarefoundation.python.3.13_qbz5n2kfra8p0\\localcache\\local-packages\\python313\\site-packages (from python-dateutil>=2.7->matplotlib) (1.17.0)\n"
     ]
    },
    {
     "name": "stderr",
     "output_type": "stream",
     "text": [
      "\n",
      "[notice] A new release of pip is available: 25.0 -> 25.0.1\n",
      "[notice] To update, run: C:\\Users\\smain\\AppData\\Local\\Microsoft\\WindowsApps\\PythonSoftwareFoundation.Python.3.13_qbz5n2kfra8p0\\python.exe -m pip install --upgrade pip\n"
     ]
    }
   ],
   "source": [
    "!pip install scikit-learn numpy matplotlib seaborn\n"
   ]
  },
  {
   "cell_type": "code",
   "execution_count": 8,
   "metadata": {},
   "outputs": [
    {
     "name": "stdout",
     "output_type": "stream",
     "text": [
      "Requirement already satisfied: seaborn in c:\\users\\smain\\appdata\\local\\programs\\python\\python312\\lib\\site-packages (0.13.2)\n",
      "Requirement already satisfied: numpy!=1.24.0,>=1.20 in c:\\users\\smain\\appdata\\local\\programs\\python\\python312\\lib\\site-packages (from seaborn) (1.26.4)\n",
      "Requirement already satisfied: pandas>=1.2 in c:\\users\\smain\\appdata\\local\\programs\\python\\python312\\lib\\site-packages (from seaborn) (2.2.3)\n",
      "Requirement already satisfied: matplotlib!=3.6.1,>=3.4 in c:\\users\\smain\\appdata\\local\\programs\\python\\python312\\lib\\site-packages (from seaborn) (3.10.0)\n",
      "Requirement already satisfied: contourpy>=1.0.1 in c:\\users\\smain\\appdata\\local\\programs\\python\\python312\\lib\\site-packages (from matplotlib!=3.6.1,>=3.4->seaborn) (1.3.1)\n",
      "Requirement already satisfied: cycler>=0.10 in c:\\users\\smain\\appdata\\local\\programs\\python\\python312\\lib\\site-packages (from matplotlib!=3.6.1,>=3.4->seaborn) (0.12.1)\n",
      "Requirement already satisfied: fonttools>=4.22.0 in c:\\users\\smain\\appdata\\local\\programs\\python\\python312\\lib\\site-packages (from matplotlib!=3.6.1,>=3.4->seaborn) (4.55.8)\n",
      "Requirement already satisfied: kiwisolver>=1.3.1 in c:\\users\\smain\\appdata\\local\\programs\\python\\python312\\lib\\site-packages (from matplotlib!=3.6.1,>=3.4->seaborn) (1.4.8)\n",
      "Requirement already satisfied: packaging>=20.0 in c:\\users\\smain\\appdata\\roaming\\python\\python312\\site-packages (from matplotlib!=3.6.1,>=3.4->seaborn) (24.2)\n",
      "Requirement already satisfied: pillow>=8 in c:\\users\\smain\\appdata\\local\\programs\\python\\python312\\lib\\site-packages (from matplotlib!=3.6.1,>=3.4->seaborn) (11.1.0)\n",
      "Requirement already satisfied: pyparsing>=2.3.1 in c:\\users\\smain\\appdata\\local\\programs\\python\\python312\\lib\\site-packages (from matplotlib!=3.6.1,>=3.4->seaborn) (3.2.1)\n",
      "Requirement already satisfied: python-dateutil>=2.7 in c:\\users\\smain\\appdata\\roaming\\python\\python312\\site-packages (from matplotlib!=3.6.1,>=3.4->seaborn) (2.9.0.post0)\n",
      "Requirement already satisfied: pytz>=2020.1 in c:\\users\\smain\\appdata\\local\\programs\\python\\python312\\lib\\site-packages (from pandas>=1.2->seaborn) (2025.1)\n",
      "Requirement already satisfied: tzdata>=2022.7 in c:\\users\\smain\\appdata\\local\\programs\\python\\python312\\lib\\site-packages (from pandas>=1.2->seaborn) (2025.1)\n",
      "Requirement already satisfied: six>=1.5 in c:\\users\\smain\\appdata\\roaming\\python\\python312\\site-packages (from python-dateutil>=2.7->matplotlib!=3.6.1,>=3.4->seaborn) (1.17.0)\n"
     ]
    },
    {
     "name": "stderr",
     "output_type": "stream",
     "text": [
      "\n",
      "[notice] A new release of pip is available: 25.0 -> 25.0.1\n",
      "[notice] To update, run: python.exe -m pip install --upgrade pip\n"
     ]
    }
   ],
   "source": [
    "import sys\n",
    "!{sys.executable} -m pip install seaborn\n",
    "\n",
    "\n"
   ]
  },
  {
   "cell_type": "code",
   "execution_count": 9,
   "metadata": {},
   "outputs": [
    {
     "name": "stdout",
     "output_type": "stream",
     "text": [
      "Installation réussie !\n"
     ]
    }
   ],
   "source": [
    "import sklearn\n",
    "import numpy as np\n",
    "import matplotlib.pyplot as plt\n",
    "import seaborn as sns\n",
    "\n",
    "print(\"Installation réussie !\")\n"
   ]
  },
  {
   "cell_type": "markdown",
   "metadata": {},
   "source": [
    "---\n",
    "\n",
    "##  Phase 1 : Classification de fruits avec un arbre de décision"
   ]
  },
  {
   "cell_type": "code",
   "execution_count": 18,
   "metadata": {},
   "outputs": [
    {
     "name": "stdout",
     "output_type": "stream",
     "text": [
      "Prédictions pour les nouveaux fruits :\n",
      "Un fruit Rouge et Ronde est prédit comme étant un(e) : Pomme\n",
      "Un fruit Jaune et Allongée est prédit comme étant un(e) : Banane\n",
      "Un fruit Vert et Ronde est prédit comme étant un(e) : Pomme\n",
      "Un fruit Rouge et Allongée est prédit comme étant un(e) : Poivron Rouge\n"
     ]
    }
   ],
   "source": [
    "from sklearn.tree import DecisionTreeClassifier\n",
    "from sklearn.preprocessing import LabelEncoder\n",
    "\n",
    "# Nos données de fruits (simplifiées)\n",
    "attributs = [\n",
    "    [\"Rouge\", \"Ronde\"],\n",
    "    [\"Jaune\", \"Allongée\"],\n",
    "    [\"Orange\", \"Ronde\"],\n",
    "    [\"Vert\", \"Ronde\"],\n",
    "    [\"Jaune\", \"Ronde\"],\n",
    "    [\"Rouge\" , \"Allongée\"]\n",
    "]\n",
    "etiquettes = [\"Pomme\", \"Banane\", \"Orange\", \"Pomme\", \"Banane\",\"Poivron Rouge\"]  # Les noms des fruits correspondants\n",
    "\n",
    "# Créer un encodeur pour transformer les valeurs catégorielles en nombres\n",
    "encodeur_couleur = LabelEncoder()\n",
    "encodeur_forme = LabelEncoder()\n",
    "encodeur_etiquette = LabelEncoder()\n",
    "\n",
    "# Appliquer l'encodage aux couleurs et formes\n",
    "couleurs = [fruit[0] for fruit in attributs]\n",
    "formes = [fruit[1] for fruit in attributs]\n",
    "\n",
    "couleurs_encoded = encodeur_couleur.fit_transform(couleurs)\n",
    "formes_encoded = encodeur_forme.fit_transform(formes)\n",
    "\n",
    "# Recréer la liste des attributs sous forme numérique\n",
    "attributs_encoded = list(zip(couleurs_encoded, formes_encoded))\n",
    "\n",
    "# Encoder les étiquettes des fruits\n",
    "etiquettes_encoded = encodeur_etiquette.fit_transform(etiquettes)\n",
    "\n",
    "# Créer un modèle d'arbre de décision\n",
    "modele = DecisionTreeClassifier()\n",
    "modele.fit(attributs_encoded, etiquettes_encoded)\n",
    "\n",
    "# Données des nouveaux fruits à prédire\n",
    "nouveaux_fruits = [\n",
    "    [\"Rouge\", \"Ronde\"],\n",
    "    [\"Jaune\", \"Allongée\"],\n",
    "    [\"Vert\", \"Ronde\"],\n",
    "    [\"Rouge\", \"Allongée\"]\n",
    "]\n",
    "\n",
    "# Convertir les nouveaux fruits en format numérique\n",
    "nouveaux_couleurs = encodeur_couleur.transform([fruit[0] for fruit in nouveaux_fruits])\n",
    "nouveaux_formes = encodeur_forme.transform([fruit[1] for fruit in nouveaux_fruits])\n",
    "\n",
    "nouveaux_fruits_encoded = list(zip(nouveaux_couleurs, nouveaux_formes))\n",
    "\n",
    "# Prédiction des nouveaux fruits\n",
    "predictions_encoded = modele.predict(nouveaux_fruits_encoded)\n",
    "\n",
    "# Décoder les prédictions en noms de fruits\n",
    "predictions = encodeur_etiquette.inverse_transform(predictions_encoded)\n",
    "\n",
    "# Afficher les prédictions\n",
    "print(\"Prédictions pour les nouveaux fruits :\")\n",
    "for i in range(len(nouveaux_fruits)):\n",
    "    print(f\"Un fruit {nouveaux_fruits[i][0]} et {nouveaux_fruits[i][1]} est prédit comme étant un(e) : {predictions[i]}\")\n",
    "\n"
   ]
  },
  {
   "cell_type": "markdown",
   "metadata": {},
   "source": [
    "\n",
    "\n",
    "## **Résumé du code précédent :**  \n",
    "\n",
    "le bloc de code précédent entraîne un arbre de décision (DecisionTreeClassifier) pour classer des fruits en fonction de leur couleur et forme. Il encode d'abord les données catégorielles (Rouge, Ronde, etc.) en nombres avec LabelEncoder. Ensuite, le modèle est entraîné sur ces données et utilisé pour prédire de nouveaux fruits.\n",
    "\n",
    "À l'exécution, il attribue par exemple \"Pomme\" aux fruits rouges et ronds, et \"Banane\" aux jaunes allongés. Il réussit aussi à reconnaître \"Poivron Rouge\" pour un fruit rouge et allongé. Le modèle est simple mais efficace pour cette tâche de classification supervisée. \n",
    "\n",
    "\n",
    "\n",
    "---"
   ]
  },
  {
   "cell_type": "markdown",
   "metadata": {},
   "source": [
    "## Phase 2 : Construction d'un modèle MLP sur MNIST - étapes préliminaires"
   ]
  },
  {
   "cell_type": "code",
   "execution_count": null,
   "metadata": {},
   "outputs": [
    {
     "name": "stdout",
     "output_type": "stream",
     "text": [
      "Forme des données d'images (X) : (70000, 784)\n",
      "Forme des étiquettes (y) : (70000,)\n",
      "Modèle MLP simple créé : MLPClassifier(hidden_layer_sizes=(200,), max_iter=10)\n",
      "Modèle MLP à deux couches créé : MLPClassifier(hidden_layer_sizes=(100, 50), max_iter=10)\n",
      "MLP avec optimiseur Adam : MLPClassifier(hidden_layer_sizes=(50,), max_iter=10)\n",
      "MLP avec optimiseur SGD : MLPClassifier(hidden_layer_sizes=(120,), learning_rate_init=0.01, max_iter=10,\n",
      "              solver='sgd')\n",
      "MLP avec optimiseur lbfgs : MLPClassifier(hidden_layer_sizes=(120,), learning_rate_init=0.01, max_iter=10,\n",
      "              solver='lbfgs')\n"
     ]
    }
   ],
   "source": [
    "from sklearn.datasets import fetch_openml\n",
    "from sklearn.neural_network import MLPClassifier\n",
    "import numpy as np\n",
    "\n",
    "# 1. Charger le dataset MNIST\n",
    "mnist = fetch_openml('mnist_784', version=1)\n",
    "X = mnist.data\n",
    "y = mnist.target\n",
    "\n",
    "# 2. Examiner les données (pour comprendre leur forme)\n",
    "print(\"Forme des données d'images (X) :\", X.shape)\n",
    "print(\"Forme des étiquettes (y) :\", y.shape)\n",
    "\n",
    "# 3. Préparer les données (une étape simple : mise à l'échelle - peut être simplifiée au début)\n",
    "#    Note : Pour simplifier au maximum, on pourrait même sauter cette étape au début.\n",
    "X = X / 255.0\n",
    "\n",
    "# 4. Construire un modèle MLP basique\n",
    "#    Ici, nous allons juste instancier le modèle avec différents paramètres.\n",
    "\n",
    "# Exemple 1 : Un MLP très simple avec une seule couche cachée de 50 neurones\n",
    "mlp_simple = MLPClassifier(hidden_layer_sizes=(200,), max_iter=10)\n",
    "print(\"Modèle MLP simple créé :\", mlp_simple)\n",
    "\n",
    "# Exemple 2 : Un MLP avec deux couches cachées\n",
    "mlp_deux_couches = MLPClassifier(hidden_layer_sizes=(100, 50), max_iter=10)\n",
    "print(\"Modèle MLP à deux couches créé :\", mlp_deux_couches)\n",
    "\n",
    "# Exemple 3 : Essayer différents algorithmes d'optimisation\n",
    "mlp_adam = MLPClassifier(hidden_layer_sizes=(50,), solver='adam', max_iter=10)\n",
    "print(\"MLP avec optimiseur Adam :\", mlp_adam)\n",
    "\n",
    "mlp_sgd = MLPClassifier(hidden_layer_sizes=(120,), solver='sgd', learning_rate_init=0.01, max_iter=10)\n",
    "print(\"MLP avec optimiseur SGD :\", mlp_sgd)\n",
    "\n",
    "mlp_lbfgs = MLPClassifier(hidden_layer_sizes=(120,), solver='lbfgs', learning_rate_init=0.01, max_iter=10)\n",
    "print(\"MLP avec optimiseur lbfgs :\", mlp_lbfgs)\n",
    "\n",
    "# Remarque : `max_iter` est limité ici pour éviter que l'entraînement ne prenne trop de temps si on l'exécute.\n",
    "# L'objectif principal est l'instanciation du modèle."
   ]
  },
  {
   "cell_type": "markdown",
   "metadata": {},
   "source": [
    "\n",
    "\n",
    "## **Résumé du code précédent :**  \n",
    "\n",
    "Le bloc de code précédent  implémente un réseau de neurones multicouches (MLP) avec scikit-learn en utilisant le dataset MNIST (images de chiffres manuscrits).\n",
    "\n",
    "Chargement des données :\n",
    "\n",
    "Le dataset MNIST est importé via fetch_openml(), contenant 70 000 images de 28x28 pixels (converties en vecteurs de 784 caractéristiques).\n",
    "Exploration des données :\n",
    "\n",
    "Affichage des dimensions des images (X.shape) et des labels (y.shape).\n",
    "Prétraitement :\n",
    "\n",
    "Normalisation des pixels entre 0 et 1 pour faciliter l’apprentissage (X = X / 255.0).\n",
    "Instanciation de plusieurs modèles MLP :\n",
    "\n",
    "Modèle simple avec 200 neurones dans une seule couche cachée.\n",
    "Modèle avec 2 couches cachées de tailles 100 et 50 neurones.\n",
    "Tests de différents solveurs d’optimisation :\n",
    "adam (par défaut, efficace pour les grands datasets).\n",
    "sgd (descente de gradient classique avec un taux d’apprentissage de 0.01).\n",
    "lbfgs (utilisé pour les petits datasets et la convergence rapide)."
   ]
  },
  {
   "cell_type": "markdown",
   "metadata": {},
   "source": [
    "---\n",
    "\n",
    "## Phase 3 : Entraînement et évaluation d'un modèle MLP sur MNIST"
   ]
  },
  {
   "cell_type": "code",
   "execution_count": 30,
   "metadata": {},
   "outputs": [
    {
     "name": "stdout",
     "output_type": "stream",
     "text": [
      "Modèle MLP créé : MLPClassifier(hidden_layer_sizes=(100, 50), max_iter=50, random_state=42)\n",
      "\n",
      "Début de l'entraînement du modèle...\n",
      "Entraînement terminé.\n",
      "\n",
      "Précision du modèle sur l'ensemble de test : 97.80%\n",
      "\n",
      "Quelques prédictions et étiquettes réelles :\n",
      "Image 1: Prédiction = 8, Réel = 8\n",
      "Image 2: Prédiction = 4, Réel = 4\n",
      "Image 3: Prédiction = 8, Réel = 8\n",
      "Image 4: Prédiction = 7, Réel = 7\n",
      "Image 5: Prédiction = 7, Réel = 7\n",
      "Image 6: Prédiction = 0, Réel = 0\n",
      "Image 7: Prédiction = 6, Réel = 6\n",
      "Image 8: Prédiction = 2, Réel = 2\n",
      "Image 9: Prédiction = 7, Réel = 7\n",
      "Image 10: Prédiction = 4, Réel = 4\n",
      "Image 11: Prédiction = 3, Réel = 3\n",
      "Image 12: Prédiction = 9, Réel = 9\n",
      "Image 13: Prédiction = 9, Réel = 9\n",
      "Image 14: Prédiction = 8, Réel = 8\n",
      "Image 15: Prédiction = 2, Réel = 2\n",
      "Image 16: Prédiction = 5, Réel = 5\n",
      "Image 17: Prédiction = 9, Réel = 9\n",
      "Image 18: Prédiction = 1, Réel = 1\n",
      "Image 19: Prédiction = 7, Réel = 7\n",
      "Image 20: Prédiction = 8, Réel = 8\n",
      "Image 21: Prédiction = 0, Réel = 0\n",
      "Image 22: Prédiction = 0, Réel = 0\n",
      "Image 23: Prédiction = 0, Réel = 0\n",
      "Image 24: Prédiction = 3, Réel = 3\n",
      "Image 25: Prédiction = 6, Réel = 6\n",
      "Image 26: Prédiction = 3, Réel = 3\n",
      "Image 27: Prédiction = 6, Réel = 6\n",
      "Image 28: Prédiction = 1, Réel = 1\n",
      "Image 29: Prédiction = 6, Réel = 6\n",
      "Image 30: Prédiction = 9, Réel = 9\n",
      "Image 31: Prédiction = 7, Réel = 7\n",
      "Image 32: Prédiction = 6, Réel = 6\n",
      "Image 33: Prédiction = 0, Réel = 0\n",
      "Image 34: Prédiction = 8, Réel = 8\n",
      "Image 35: Prédiction = 5, Réel = 5\n",
      "Image 36: Prédiction = 5, Réel = 5\n",
      "Image 37: Prédiction = 2, Réel = 2\n",
      "Image 38: Prédiction = 9, Réel = 9\n",
      "Image 39: Prédiction = 1, Réel = 1\n",
      "Image 40: Prédiction = 6, Réel = 6\n",
      "Image 41: Prédiction = 4, Réel = 4\n",
      "Image 42: Prédiction = 9, Réel = 9\n",
      "Image 43: Prédiction = 7, Réel = 7\n",
      "Image 44: Prédiction = 7, Réel = 7\n",
      "Image 45: Prédiction = 4, Réel = 4\n",
      "Image 46: Prédiction = 5, Réel = 5\n",
      "Image 47: Prédiction = 2, Réel = 2\n",
      "Image 48: Prédiction = 7, Réel = 7\n",
      "Image 49: Prédiction = 3, Réel = 3\n",
      "Image 50: Prédiction = 9, Réel = 9\n"
     ]
    }
   ],
   "source": [
    "\n",
    "from sklearn.datasets import fetch_openml\n",
    "from sklearn.neural_network import MLPClassifier\n",
    "from sklearn.model_selection import train_test_split\n",
    "from sklearn.metrics import accuracy_score\n",
    "import numpy as np\n",
    "\n",
    "# 1. Charger le dataset MNIST\n",
    "mnist = fetch_openml('mnist_784', version=1)\n",
    "X = mnist.data.astype(np.float32) / 255.0  # Normaliser les données\n",
    "y = mnist.target.astype(int)\n",
    "\n",
    "# 2. Diviser les données en ensembles d'entraînement et de test\n",
    "#    C'est crucial pour évaluer les performances du modèle sur des données qu'il n'a jamais vues.\n",
    "X_train, X_test, y_train, y_test = train_test_split(X, y, test_size=0.3, random_state=42)\n",
    "\n",
    "# 3. Construire un modèle MLP (vous pouvez utiliser un des modèles de l'étape 2 ou en créer un nouveau)\n",
    "#    Commençons par un modèle simple pour l'entraînement initial.\n",
    "mlp = MLPClassifier(hidden_layer_sizes=(100,50), max_iter=50, random_state=42)\n",
    "print(\"Modèle MLP créé :\", mlp)\n",
    "\n",
    "# 4. Entraîner le modèle sur les données d'entraînement\n",
    "#    C'est là que le modèle apprend à reconnaître les chiffres.\n",
    "print(\"\\nDébut de l'entraînement du modèle...\")\n",
    "mlp.fit(X_train, y_train)\n",
    "print(\"Entraînement terminé.\")\n",
    "\n",
    "# 5. Faire des prédictions sur l'ensemble de test\n",
    "#    Utiliser le modèle entraîné pour prédire les chiffres sur l'ensemble de test.\n",
    "y_pred = mlp.predict(X_test)\n",
    "\n",
    "# 6. Évaluer les performances du modèle en calculant la précision\n",
    "#    La précision mesure le pourcentage de chiffres correctement classifiés.\n",
    "accuracy = accuracy_score(y_test, y_pred)\n",
    "print(f\"\\nPrécision du modèle sur l'ensemble de test : {accuracy * 100:.2f}%\")\n",
    "\n",
    "# 7. (Facultatif) Afficher quelques prédictions et les étiquettes réelles pour comparaison\n",
    "print(\"\\nQuelques prédictions et étiquettes réelles :\")\n",
    "for i in range(50):\n",
    "     print(f\"Image {i+1}: Prédiction = {y_pred[i]}, Réel = {y_test.iloc[i]}\")"
   ]
  },
  {
   "cell_type": "markdown",
   "metadata": {},
   "source": [
    "## 2- Observez les sorties :\n",
    "\n",
    "- **Combien de temps prend l'entraînement ?**  \n",
    "  - Il dure **10 itérations d'apprentissage**.  \n",
    "\n",
    "- **Quelle est la précision du modèle sur l'ensemble de test ?**  \n",
    "  - La précision du modèle est de **96,46%**, ce qui signifie qu'il classifie correctement **96,46% des chiffres manuscrits** dans l’ensemble de test.  \n",
    "\n",
    "- **Regardez les exemples de prédictions et les étiquettes réelles. Le modèle a-t-il fait des erreurs sur ces exemples ?**  \n",
    "  - Dans les **10 premiers exemples affichés**, la **prédiction correspond toujours à la valeur réelle**.  \n",
    "  - Cela montre que le modèle fonctionne bien, mais il faudrait analyser plus d’exemples pour voir s’il fait des erreurs sur des chiffres plus difficiles à reconnaître.  \n",
    "\n",
    "\n",
    "\n",
    "## 3- Expérimentez :\n",
    "\n",
    "- **Modifiez le nombre d'itérations (max_iter)**  \n",
    "  - **Test avec max_iter=50** : La précision **augmente**, mais l’entraînement prend **plus de temps**.  \n",
    "\n",
    "- **Modifiez l'architecture du modèle (hidden_layer_sizes)**  \n",
    "  - **Test avec hidden_layer_sizes=(100,) ou (100, 50)** : La précision **s’améliore**, mais **le temps d'entraînement augmente également**.  \n",
    "\n",
    "- **Examinez la division des données (test_size)**  \n",
    "  - **Si test_size augmente**, plus de données sont utilisées pour le **test**, mais **moins** pour l’entraînement, ce qui peut **réduire la précision**.  \n",
    "  - **Si test_size diminue**, plus de données sont utilisées pour l’**entraînement**, ce qui **améliore la précision**, mais on a moins de données pour **évaluer la performance** du modèle.  \n",
    "\n",
    "\n",
    "\n",
    "## **Résumé du code précédent :**  \n",
    "\n",
    "Le code entraîne un **réseau de neurones multicouches (MLP)** pour reconnaître les chiffres manuscrits du dataset **MNIST**. Il commence par **charger et normaliser les données**, avant de les **diviser en un ensemble d’entraînement (80%) et un ensemble de test (20%)**.  \n",
    "\n",
    "Un **MLP avec une couche cachée de 50 neurones** est créé et entraîné sur les données (max_iter=10). Ensuite, le modèle **prédit les chiffres** de l’ensemble de test et sa **précision est évaluée à 96,46%**.  \n",
    "\n",
    "Enfin, il affiche **quelques prédictions comparées aux étiquettes réelles**, montrant que le modèle **classifie correctement ces exemples**. Ce code peut être **amélioré** en modifiant **l’architecture du MLP, le nombre d’itérations ou la taille de l’ensemble de test**. \n"
   ]
  },
  {
   "cell_type": "markdown",
   "metadata": {},
   "source": [
    "---\n",
    "\n",
    "## Phase 4 : Amélioration de la précision du modèle MLP"
   ]
  },
  {
   "cell_type": "code",
   "execution_count": 1,
   "metadata": {},
   "outputs": [
    {
     "name": "stdout",
     "output_type": "stream",
     "text": [
      "\n",
      "--- Exploration de différentes architectures ---\n"
     ]
    },
    {
     "name": "stderr",
     "output_type": "stream",
     "text": [
      "c:\\Users\\smain\\AppData\\Local\\Programs\\Python\\Python312\\Lib\\site-packages\\sklearn\\neural_network\\_multilayer_perceptron.py:691: ConvergenceWarning: Stochastic Optimizer: Maximum iterations (10) reached and the optimization hasn't converged yet.\n",
      "  warnings.warn(\n"
     ]
    },
    {
     "name": "stdout",
     "output_type": "stream",
     "text": [
      "Précision avec une couche cachée de 100 neurones : 97.09%\n"
     ]
    },
    {
     "name": "stderr",
     "output_type": "stream",
     "text": [
      "c:\\Users\\smain\\AppData\\Local\\Programs\\Python\\Python312\\Lib\\site-packages\\sklearn\\neural_network\\_multilayer_perceptron.py:691: ConvergenceWarning: Stochastic Optimizer: Maximum iterations (10) reached and the optimization hasn't converged yet.\n",
      "  warnings.warn(\n"
     ]
    },
    {
     "name": "stdout",
     "output_type": "stream",
     "text": [
      "Précision avec deux couches cachées (100, 50 neurones) : 97.15%\n",
      "\n",
      "--- Introduction à la régularisation ---\n"
     ]
    },
    {
     "name": "stderr",
     "output_type": "stream",
     "text": [
      "c:\\Users\\smain\\AppData\\Local\\Programs\\Python\\Python312\\Lib\\site-packages\\sklearn\\neural_network\\_multilayer_perceptron.py:691: ConvergenceWarning: Stochastic Optimizer: Maximum iterations (10) reached and the optimization hasn't converged yet.\n",
      "  warnings.warn(\n"
     ]
    },
    {
     "name": "stdout",
     "output_type": "stream",
     "text": [
      "Précision avec régularisation L2 (alpha=0.001) : 97.08%\n",
      "\n",
      "--- Exploration de différents algorithmes d'optimisation ---\n"
     ]
    },
    {
     "name": "stderr",
     "output_type": "stream",
     "text": [
      "c:\\Users\\smain\\AppData\\Local\\Programs\\Python\\Python312\\Lib\\site-packages\\sklearn\\neural_network\\_multilayer_perceptron.py:691: ConvergenceWarning: Stochastic Optimizer: Maximum iterations (10) reached and the optimization hasn't converged yet.\n",
      "  warnings.warn(\n"
     ]
    },
    {
     "name": "stdout",
     "output_type": "stream",
     "text": [
      "Précision avec l'optimiseur Adam : 97.09%\n",
      "Précision avec l'optimiseur SGD (taux d'apprentissage=0.01) : 95.34%\n"
     ]
    },
    {
     "name": "stderr",
     "output_type": "stream",
     "text": [
      "c:\\Users\\smain\\AppData\\Local\\Programs\\Python\\Python312\\Lib\\site-packages\\sklearn\\neural_network\\_multilayer_perceptron.py:691: ConvergenceWarning: Stochastic Optimizer: Maximum iterations (10) reached and the optimization hasn't converged yet.\n",
      "  warnings.warn(\n"
     ]
    }
   ],
   "source": [
    "from sklearn.datasets import fetch_openml\n",
    "from sklearn.neural_network import MLPClassifier\n",
    "from sklearn.model_selection import train_test_split\n",
    "from sklearn.metrics import accuracy_score\n",
    "import numpy as np\n",
    "\n",
    "# 1. Charger et préparer le dataset MNIST (comme à l'étape 3)\n",
    "mnist = fetch_openml('mnist_784', version=1)\n",
    "X = mnist.data.astype(np.float32) / 255.0\n",
    "y = mnist.target.astype(int)\n",
    "\n",
    "X_train, X_test, y_train, y_test = train_test_split(X, y, test_size=0.2, random_state=42)\n",
    "\n",
    "# 2. Explorer différentes architectures de modèles MLP\n",
    "print(\"\\n--- Exploration de différentes architectures ---\")\n",
    "\n",
    "# Modèle 1 : Plus de neurones dans une seule couche cachée\n",
    "mlp_large = MLPClassifier(hidden_layer_sizes=(100,), max_iter=10, random_state=42)\n",
    "mlp_large.fit(X_train, y_train)\n",
    "y_pred_large = mlp_large.predict(X_test)\n",
    "accuracy_large = accuracy_score(y_test, y_pred_large)\n",
    "print(f\"Précision avec une couche cachée de 100 neurones : {accuracy_large * 100:.2f}%\")\n",
    "\n",
    "# Modèle 2 : Plusieurs couches cachées\n",
    "mlp_multi = MLPClassifier(hidden_layer_sizes=(100, 50), max_iter=10, random_state=42)\n",
    "mlp_multi.fit(X_train, y_train)\n",
    "y_pred_multi = mlp_multi.predict(X_test)\n",
    "accuracy_multi = accuracy_score(y_test, y_pred_multi)\n",
    "print(f\"Précision avec deux couches cachées (100, 50 neurones) : {accuracy_multi * 100:.2f}%\")\n",
    "\n",
    "# 3. Introduction à la régularisation (L2) pour éviter le sur-apprentissage\n",
    "print(\"\\n--- Introduction à la régularisation ---\")\n",
    "\n",
    "# Modèle 3 : Avec régularisation L2 (paramètre alpha)\n",
    "mlp_regularized = MLPClassifier(hidden_layer_sizes=(100,), max_iter=10, alpha=0.001, random_state=42)\n",
    "mlp_regularized.fit(X_train, y_train)\n",
    "y_pred_regularized = mlp_regularized.predict(X_test)\n",
    "accuracy_regularized = accuracy_score(y_test, y_pred_regularized)\n",
    "print(f\"Précision avec régularisation L2 (alpha=0.001) : {accuracy_regularized * 100:.2f}%\")\n",
    "\n",
    "# 4. Explorer différents algorithmes d'optimisation\n",
    "print(\"\\n--- Exploration de différents algorithmes d'optimisation ---\")\n",
    "\n",
    "# Modèle 4 : Utilisation de l'optimiseur 'adam' (qui est l'optimiseur par défaut)\n",
    "mlp_adam = MLPClassifier(hidden_layer_sizes=(100,), max_iter=10, solver='adam', random_state=42)\n",
    "mlp_adam.fit(X_train, y_train)\n",
    "y_pred_adam = mlp_adam.predict(X_test)\n",
    "accuracy_adam = accuracy_score(y_test, y_pred_adam)\n",
    "print(f\"Précision avec l'optimiseur Adam : {accuracy_adam * 100:.2f}%\")\n",
    "\n",
    "# Modèle 5 : Utilisation de l'optimiseur 'sgd' (Stochastic Gradient Descent) avec un taux d'apprentissage\n",
    "mlp_sgd = MLPClassifier(hidden_layer_sizes=(100,), max_iter=10, solver='sgd', learning_rate_init=0.01, random_state=42)\n",
    "mlp_sgd.fit(X_train, y_train)\n",
    "y_pred_sgd = mlp_sgd.predict(X_test)\n",
    "accuracy_sgd = accuracy_score(y_test, y_pred_sgd)\n",
    "print(f\"Précision avec l'optimiseur SGD (taux d'apprentissage=0.01) : {accuracy_sgd * 100:.2f}%\")\n",
    "\n",
    "# Remarque : `max_iter` est toujours limité ici pour des raisons de temps d'exécution lors des tests.\n",
    "# Pour obtenir de meilleures performances, il faudrait augmenter le nombre d'itérations."
   ]
  },
  {
   "cell_type": "markdown",
   "metadata": {},
   "source": [
    "# 2 / Observation des sorties :\n",
    "\n",
    "## 1. Comment la précision change-t-elle lorsque vous modifiez l'architecture du modèle ?\n",
    "100 neurones dans une seule couche donne une précision de  97.09%  \n",
    "100, 50 neurones donne une précision de  97.15%  \n",
    "\n",
    "### Remarque :\n",
    "Ajouter une couche supplémentaire (100, 50) améliore légèrement la précision de  +0.06%.  \n",
    "La différence n’est pas significative car le dataset MNIST est relativement simple, mais sur un dataset plus complexe, une architecture plus profonde pourrait être plus bénéfique.  \n",
    "\n",
    "\n",
    "\n",
    "## 3/ Quel est l'impact de l'ajout de la régularisation L2 ?\n",
    "La précision Sans régularisation est de  97.09% alors qu'avec régularisation (alpha=0.001) elle tombe à  97.08%.  \n",
    "\n",
    "### Remarque :\n",
    "La régularisation L2 ne change presque pas la précision dans ce cas.  \n",
    "Mais elle évite le sur-apprentissage, ce qui serait utile si le modèle était entraîné sur plus d’itérations (max_iter élevé). Même si l’impact est faible ici, la régularisation est utile pour éviter qu’un modèle apprenne trop les détails spécifiques des données d’entraînement (overfitting).  \n",
    "\n",
    "\n",
    "\n",
    "## 4/ Comment les différents algorithmes d'optimisation Adam vs SGD affectent-ils la précision ?\n",
    "Avec l'optimiseur Adam la précision est à 97.09% mais avec l'optimiseur SGD (learning_rate=0.01) elle descend à 95.34%.  \n",
    "\n",
    "### Remarque :\n",
    "Adam est plus performant que SGD avec un gain de +1.75%.  \n",
    "SGD converge plus lentement et a besoin de plus d'itérations ou d’un taux d’apprentissage plus finement réglé.  \n",
    "\n",
    "\n",
    "# 5/ Expérimentation suggérée :\n",
    "\n",
    "## 1. Modifier l’architecture du modèle (hidden_layer_sizes)\n",
    "Essayez (50, 50), (150,), (128, 64, 32).  \n",
    "\n",
    "Plus de couches donne une meilleure représentation des données.  \n",
    "\n",
    "\n",
    "## 2. Tester différentes valeurs de régularisation (alpha)\n",
    "Essayez alpha=0.01 ou alpha=0.0001.  \n",
    "\n",
    "Avec un Alpha plus élevé on a moins de sur-apprentissage mais possible perte de précision.  \n",
    "Avec un alpha plus faible on a une meilleure précision.  \n",
    "\n",
    "\n",
    "\n",
    "## 3. Expérimenter d’autres solveurs (lbfgs, sgd avec learning_rate différent)\n",
    "Le lbfgs convient aux petits datasets.  \n",
    "\n",
    "\n",
    "\n",
    "## 4. Augmenter max_iter (ex. 50 ou 100)\n",
    "Améliore la précision en permettant au modèle de mieux converger.  \n",
    "Mais le temps d’entraînement est plus long. \n",
    "\n",
    "# Résumé\n",
    "\n",
    "\n",
    "Le code entraîne plusieurs **réseaux de neurones MLP** pour classifier les chiffres manuscrits du dataset **MNIST**.  \n",
    "\n",
    "- **Chargement et normalisation** des données avant de les diviser en **train (80%) et test (20%)**.  \n",
    "- **Test de différentes architectures** : un modèle avec **100 neurones cachés**, puis un modèle avec **2 couches (100, 50 neurones)**.  \n",
    "- **Régularisation L2** ajoutée pour éviter le **sur-apprentissage** (alpha=0.001).  \n",
    "- **Comparaison des algorithmes d’optimisation** : **Adam (par défaut)** et **SGD avec un taux d’apprentissage de 0.01**.  \n",
    "- **Évaluation des performances** : calcul de la **précision** pour chaque modèle.  \n",
    "- **Observation** : **plus de couches ou de neurones améliore légèrement la précision**.  \n",
    "- **Adam est plus performant que SGD**, qui nécessite plus d’itérations pour converger.  \n",
    "- **Le modèle pourrait être amélioré** en augmentant max_iter pour un meilleur apprentissage.  \n",
    "\n"
   ]
  },
  {
   "cell_type": "markdown",
   "metadata": {},
   "source": [
    "---\n",
    "\n",
    "## Phase 5 : Visualisation des prédictions du modèle"
   ]
  },
  {
   "cell_type": "markdown",
   "metadata": {},
   "source": []
  },
  {
   "cell_type": "code",
   "execution_count": 2,
   "metadata": {},
   "outputs": [
    {
     "name": "stderr",
     "output_type": "stream",
     "text": [
      "c:\\Users\\smain\\AppData\\Local\\Programs\\Python\\Python312\\Lib\\site-packages\\sklearn\\neural_network\\_multilayer_perceptron.py:691: ConvergenceWarning: Stochastic Optimizer: Maximum iterations (10) reached and the optimization hasn't converged yet.\n",
      "  warnings.warn(\n"
     ]
    },
    {
     "name": "stdout",
     "output_type": "stream",
     "text": [
      "Probabilités prédites pour la première image de test :\n",
      " [3.8090796e-08 1.7673913e-11 3.1471352e-06 2.9015425e-04 4.0530215e-11\n",
      " 8.3924277e-07 2.8764302e-11 7.5152586e-09 9.9970514e-01 5.8127938e-07]\n",
      "\n",
      "Classes prédites (les 20 premières) : [8 4 8 7 7 0 6 2 7 4 3 9 9 8 2 5 9 1 7 8]\n",
      "Classes réelles     (les 20 premières) : [8 4 8 7 7 0 6 2 7 4 3 9 9 8 2 5 9 1 7 8]\n"
     ]
    },
    {
     "data": {
      "image/png": "[encoded data removed]",
      "text/plain": [
       "<Figure size 2000x400 with 10 Axes>"
      ]
     },
     "metadata": {},
     "output_type": "display_data"
    },
    {
     "data": {
      "image/png": "[encoded data removed]",
      "text/plain": [
       "<Figure size 900x900 with 2 Axes>"
      ]
     },
     "metadata": {},
     "output_type": "display_data"
    },
    {
     "name": "stdout",
     "output_type": "stream",
     "text": [
      "\n",
      "Précision du modèle sur l'ensemble de test : 97.09%\n"
     ]
    }
   ],
   "source": [
    "import matplotlib.pyplot as plt\n",
    "import numpy as np\n",
    "from sklearn.metrics import confusion_matrix\n",
    "import seaborn as sns\n",
    "from sklearn.neural_network import MLPClassifier\n",
    "from sklearn.datasets import fetch_openml\n",
    "from sklearn.model_selection import train_test_split\n",
    "\n",
    "# 1. Charger et préparer le dataset MNIST (comme dans les étapes précédentes)\n",
    "mnist = fetch_openml('mnist_784', version=1)\n",
    "X = mnist.data.astype(np.float32) / 255.0\n",
    "y = mnist.target.astype(int)\n",
    "X_train, X_test, y_train, y_test = train_test_split(X, y, test_size=0.2, random_state=42)\n",
    "\n",
    "# 2. (Rappel) Créer et entraîner le modèle (vous pouvez réutiliser le meilleur modèle trouvé à l'étape 4)\n",
    "#    Ici, on utilise un modèle simple pour l'exemple. N'hésitez pas à encourager les étudiants\n",
    "#    à utiliser les modèles qu'ils ont entraînés précédemment.\n",
    "model = MLPClassifier(hidden_layer_sizes=(100,), max_iter=10, random_state=42)\n",
    "model.fit(X_train, y_train)\n",
    "\n",
    "# 3. Obtenir les probabilités prédites pour l'ensemble de test\n",
    "#    Pour chaque image de test, le modèle donne une probabilité d'appartenance à chaque classe (chiffre de 0 à 9).\n",
    "y_test_probs = model.predict_proba(X_test)\n",
    "print(\"Probabilités prédites pour la première image de test :\\n\", y_test_probs[0])\n",
    "\n",
    "# 4. Convertir les probabilités en prédictions de classe\n",
    "#    On choisit la classe avec la probabilité la plus élevée comme prédiction.\n",
    "y_test_pred = np.argmax(y_test_probs, axis=1)\n",
    "print(\"\\nClasses prédites (les 20 premières) :\", y_test_pred[:20])\n",
    "print(\"Classes réelles     (les 20 premières) :\", y_test[:20].values[:20]) # Accès aux valeurs NumPy\n",
    "\n",
    "# 5. Visualiser les prédictions sur les 10 premières images de test\n",
    "plt.figure(figsize=(20, 4))\n",
    "for index in range(10):\n",
    "    plt.subplot(2, 5, index + 1)\n",
    "    # Remodeler l'image aplatie en une image 28x28 pour l'affichage\n",
    "    plt.imshow(X_test.iloc[index].values.reshape(28, 28), cmap=plt.cm.gray) # Accès aux valeurs NumPy\n",
    "    plt.title(f\"Prédit : {y_test_pred[index]}\")\n",
    "    plt.axis(\"off\")\n",
    "plt.tight_layout()\n",
    "plt.show()\n",
    "\n",
    "# 6. Matrice de Confusion\n",
    "#    Affiche le nombre de fois où chaque chiffre a été confondu avec un autre.\n",
    "#    La normalisation permet de voir les proportions.\n",
    "cm = confusion_matrix(y_test, y_test_pred, normalize='true')\n",
    "plt.figure(figsize=(9, 9))\n",
    "sns.heatmap(cm, annot=True, fmt=\".3f\", linewidths=.5, square=True, cmap=\"Blues_r\")\n",
    "plt.ylabel('Vraie étiquette')\n",
    "plt.xlabel('Étiquette prédite')\n",
    "plt.title('Matrice de Confusion (Normalisée)', size=15)\n",
    "plt.show()\n",
    "\n",
    "# 7. Afficher la précision globale (pour comparer avec les visualisations)\n",
    "accuracy = np.mean(y_test_pred == y_test)\n",
    "print(f\"\\nPrécision du modèle sur l'ensemble de test : {accuracy * 100:.2f}%\")"
   ]
  },
  {
   "cell_type": "markdown",
   "metadata": {},
   "source": [
    "# 1. Prédictions sur les images de test  \n",
    "\n",
    "## Le modèle a-t-il correctement prédit les chiffres ? Y a-t-il des erreurs ?  \n",
    "\n",
    "En analysant les **10 premières images de test**, la plupart des prédictions du modèle semblent **correctes**. Cependant, il est possible de relever des **erreurs** lorsque les chiffres sont **mal écrits, flous ou ambigus**.  \n",
    "\n",
    "### Pourquoi le modèle pourrait-il se tromper ?  \n",
    "Les erreurs peuvent être dues à plusieurs facteurs, notamment :  \n",
    "\n",
    "- **Une écriture peu lisible ou inhabituelle**, qui rend la distinction entre certaines classes difficile.  \n",
    "- **Une ressemblance visuelle entre certains chiffres**, par exemple :  \n",
    "  - Un **\"4\" mal écrit** pouvant être interprété comme un **\"9\"**.  \n",
    "  - Un **\"8\" et un \"3\"** qui partagent des **caractéristiques similaires**.  \n",
    "  - Un **\"7\" et un \"1\"** qui peuvent être confondus selon le **style d’écriture**.  \n",
    "\n",
    "\n",
    "# 2. Analyse de la matrice de confusion  \n",
    "\n",
    "## Que représentent les lignes et les colonnes ?  \n",
    "- **Les lignes** correspondent aux **vraies étiquettes** (les chiffres réels).  \n",
    "- **Les colonnes** correspondent aux **prédictions du modèle** (les chiffres que le modèle a identifiés).  \n",
    "\n",
    "## Les valeurs élevées sont-elles principalement sur la diagonale ?  \n",
    "Oui, la **diagonale contient les valeurs les plus élevées**, ce qui signifie que le modèle a **correctement classifié la majorité des chiffres**.  \n",
    "\n",
    "## Y a-t-il des erreurs en dehors de la diagonale ? Quels types d'erreurs sont les plus fréquents ?  \n",
    "On observe **quelques erreurs hors de la diagonale**, ce qui indique que certains chiffres ont été **mal classifiés**.  \n",
    "\n",
    "### Parmi les confusions les plus probables :  \n",
    "- **Confusion entre \"4\" et \"9\"**, ce qui peut être expliqué par **des similarités dans certaines écritures**.  \n",
    "- **Confusion entre \"8\" et \"3\"**, car ces chiffres ont **une structure visuellement proche**.  \n",
    "- **Confusion entre \"7\" et \"1\"**, en raison d’**écritures simplifiées** qui peuvent prêter à confusion.  \n",
    "\n",
    "Ces erreurs sont visibles dans la **matrice de confusion** par des **valeurs plus élevées hors de la diagonale principale**.  \n",
    "\n",
    "# Résumé \n",
    "\n",
    "Le code implémente un **réseau de neurones MLP** pour classifier les chiffres manuscrits du dataset **MNIST**.  \n",
    "\n",
    "- Il commence par **charger et normaliser les données**, puis les divise en **train (80%) et test (20%)**.  \n",
    "- Un **MLPClassifier** avec **100 neurones cachés** est entraîné sur l’ensemble d’apprentissage.  \n",
    "- Ensuite, le modèle **prédit les classes** des images de test et affiche les **10 premières prédictions** avec les images correspondantes.  \n",
    "- Une **matrice de confusion** est générée pour analyser les erreurs de classification.  \n",
    "- Enfin, la **précision globale** du modèle est calculée, montrant ses performances.  \n",
    "- Des erreurs subsistent, notamment sur des chiffres visuellement proches (ex. \"4\" et \"9\").  \n",
    "- Pour améliorer le modèle, il serait pertinent d’**ajuster la structure du réseau ou d’augmenter max_iter**.  \n",
    "\n",
    "\n",
    "# Conclusion\n",
    "\n",
    "Les résultats montrent que l'architecture du réseau, l'optimisation et la régularisation influencent la précision du modèle.\n",
    "L'ajout de plusieurs couches cachées améliore légèrement la classification, et l'optimiseur Adam offre de meilleures performances que SGD.\n",
    "Pour améliorer encore le modèle, il serait pertinent d’augmenter max_iter, d’expérimenter avec d'autres architectures (ex. CNNs) et d'affiner la régularisation.\n",
    "Ce projet permet de comprendre les principes fondamentaux du deep learning et d’appliquer ces concepts sur un problème réel de classification d’images.\n",
    "\n",
    "\n",
    "\n"
   ]
  },
  {
   "cell_type": "markdown",
   "metadata": {},
   "source": []
  },
  {
   "cell_type": "markdown",
   "metadata": {},
   "source": []
  }
 ],
 "metadata": {
  "kernelspec": {
   "display_name": "Python 3",
   "language": "python",
   "name": "python3"
  },
  "language_info": {
   "codemirror_mode": {
    "name": "ipython",
    "version": 3
   },
   "file_extension": ".py",
   "mimetype": "text/x-python",
   "name": "python",
   "nbconvert_exporter": "python",
   "pygments_lexer": "ipython3",
   "version": "3.12.6"
  }
 },
 "nbformat": 4,
 "nbformat_minor": 2
}
